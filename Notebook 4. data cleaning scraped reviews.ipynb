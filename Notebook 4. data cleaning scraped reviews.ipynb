{
 "cells": [
  {
   "cell_type": "code",
   "execution_count": 24,
   "metadata": {
    "collapsed": true
   },
   "outputs": [],
   "source": [
    "import csv\n",
    "import pandas as pd\n",
    "\n",
    "import pyspark as ps    # for the pyspark suite\n",
    "\n",
    "spark = ps.sql.SparkSession.builder \\\n",
    "            .master(\"local[4]\") \\\n",
    "            .appName(\"df JulesVerne\") \\\n",
    "            .getOrCreate()\n",
    "\n",
    "sc = spark.sparkContext"
   ]
  },
  {
   "cell_type": "markdown",
   "metadata": {},
   "source": [
    "## Final Data Cleaning for Reviews:\n",
    "Using pandas DataFrame,\n",
    "- get rid of \\n \\r's\n",
    "- get rid of numbers\n"
   ]
  },
  {
   "cell_type": "code",
   "execution_count": 25,
   "metadata": {
    "collapsed": true
   },
   "outputs": [],
   "source": [
    "df = pd.read_csv('data/reviews_.csv')\n",
    "def replace_(x):\n",
    "    x = x.replace('\\r',' ')\n",
    "    return x.replace('\\n',' ')\n",
    "\n",
    "df.reviews = df2.reviews.apply(replace_)\n",
    "df.to_csv('data/reviews_.csv')"
   ]
  },
  {
   "cell_type": "markdown",
   "metadata": {},
   "source": [
    "## Spark DataFrame"
   ]
  },
  {
   "cell_type": "code",
   "execution_count": 7,
   "metadata": {},
   "outputs": [],
   "source": [
    "sc = spark.sparkContext"
   ]
  },
  {
   "cell_type": "code",
   "execution_count": 14,
   "metadata": {},
   "outputs": [],
   "source": [
    "df = spark.read.csv('data/reviews_.csv',header=True)"
   ]
  },
  {
   "cell_type": "code",
   "execution_count": 15,
   "metadata": {},
   "outputs": [
    {
     "name": "stdout",
     "output_type": "stream",
     "text": [
      "root\n",
      " |-- attractions: string (nullable = true)\n",
      " |-- reviews: string (nullable = true)\n",
      "\n"
     ]
    }
   ],
   "source": [
    "df.printSchema()"
   ]
  },
  {
   "cell_type": "code",
   "execution_count": 16,
   "metadata": {},
   "outputs": [
    {
     "name": "stdout",
     "output_type": "stream",
     "text": [
      "line count: 114435\n"
     ]
    }
   ],
   "source": [
    "print(\"line count: {}\".format(df.count()))"
   ]
  },
  {
   "cell_type": "code",
   "execution_count": 17,
   "metadata": {},
   "outputs": [
    {
     "name": "stdout",
     "output_type": "stream",
     "text": [
      "+--------------------+--------------------+\n",
      "|         attractions|             reviews|\n",
      "+--------------------+--------------------+\n",
      "|Sydney_Harbour-Sy...|Apart from the ma...|\n",
      "|Sydney_Harbour-Sy...|Iconic sightseein...|\n",
      "|Sydney_Harbour-Sy...|Beautiful harbour...|\n",
      "|Sydney_Harbour-Sy...|We took a tour wi...|\n",
      "|Sydney_Harbour-Sy...|Visit the Harbor ...|\n",
      "|Sydney_Harbour-Sy...|This area, called...|\n",
      "|Sydney_Harbour-Sy...|enjoy a champagne...|\n",
      "|Sydney_Harbour-Sy...|went on a holiday...|\n",
      "|got to say the tr...|                null|\n",
      "|Sydney_Harbour-Sy...|\"The Sydney Harbo...|\n",
      "+--------------------+--------------------+\n",
      "only showing top 10 rows\n",
      "\n"
     ]
    }
   ],
   "source": [
    "df.show(10)"
   ]
  },
  {
   "cell_type": "code",
   "execution_count": 42,
   "metadata": {},
   "outputs": [
    {
     "data": {
      "text/plain": [
       "DataFrame[reviews: string]"
      ]
     },
     "execution_count": 42,
     "metadata": {},
     "output_type": "execute_result"
    }
   ],
   "source": [
    "df.select('reviews')"
   ]
  }
 ],
 "metadata": {
  "kernelspec": {
   "display_name": "Python 2",
   "language": "python",
   "name": "python2"
  },
  "language_info": {
   "codemirror_mode": {
    "name": "ipython",
    "version": 2
   },
   "file_extension": ".py",
   "mimetype": "text/x-python",
   "name": "python",
   "nbconvert_exporter": "python",
   "pygments_lexer": "ipython2",
   "version": "2.7.13"
  }
 },
 "nbformat": 4,
 "nbformat_minor": 2
}
