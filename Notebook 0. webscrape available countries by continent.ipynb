{
 "cells": [
  {
   "cell_type": "code",
   "execution_count": 1,
   "metadata": {
    "collapsed": true
   },
   "outputs": [],
   "source": [
    "# import the Requests HTTP library\n",
    "import requests\n",
    "\n",
    "# import the Beautiful Soup module \n",
    "from bs4 import BeautifulSoup\n",
    "\n",
    "#import csv for file saving\n",
    "import csv"
   ]
  },
  {
   "cell_type": "markdown",
   "metadata": {},
   "source": [
    "# 1\\. Initial Tests to understand the HTML structure for Webscraping\n",
    "\n",
    "\"requests\" allows us to establish access to a given html.  Then, BeautifulSoup is used to parse html in a readable format.  This is used throughout scraping process, so a function \"soupify\" is written.  \n",
    "\n",
    "useful sources: https://www.crummy.com/software/BeautifulSoup/bs4/doc/"
   ]
  },
  {
   "cell_type": "code",
   "execution_count": 2,
   "metadata": {
    "collapsed": true
   },
   "outputs": [],
   "source": [
    "r = requests.get(\"https://www.tripadvisor.com/Attraction_Review-g295424-d676922-Reviews-Burj_Khalifa-Dubai_Emirate_of_Dubai.html\")"
   ]
  },
  {
   "cell_type": "code",
   "execution_count": 3,
   "metadata": {
    "collapsed": true
   },
   "outputs": [],
   "source": [
    "soup = BeautifulSoup(r.content, 'html.parser')"
   ]
  },
  {
   "cell_type": "code",
   "execution_count": 4,
   "metadata": {
    "collapsed": true
   },
   "outputs": [],
   "source": [
    "s = soup.prettify()"
   ]
  },
  {
   "cell_type": "code",
   "execution_count": 5,
   "metadata": {},
   "outputs": [
    {
     "name": "stdout",
     "output_type": "stream",
     "text": [
      "<title>Burj Khalifa (Dubai, United Arab Emirates): Top Tips Before You Go (with Photos) - TripAdvisor</title>\n"
     ]
    }
   ],
   "source": [
    "print soup.title"
   ]
  },
  {
   "cell_type": "code",
   "execution_count": 6,
   "metadata": {
    "collapsed": true
   },
   "outputs": [],
   "source": [
    "def soupify(url):\n",
    "    r = requests.get(url)\n",
    "    soup = BeautifulSoup(r.content, 'html.parser')\n",
    "    soup.prettify()\n",
    "    return r, soup"
   ]
  },
  {
   "cell_type": "code",
   "execution_count": 7,
   "metadata": {
    "collapsed": true
   },
   "outputs": [],
   "source": [
    "r, soup = soupify(\"https://www.tripadvisor.com/Attraction_Review-g295424-d676922-Reviews-Burj_Khalifa-Dubai_Emirate_of_Dubai.html\")"
   ]
  },
  {
   "cell_type": "code",
   "execution_count": 8,
   "metadata": {},
   "outputs": [
    {
     "data": {
      "text/plain": [
       "<title>Burj Khalifa (Dubai, United Arab Emirates): Top Tips Before You Go (with Photos) - TripAdvisor</title>"
      ]
     },
     "execution_count": 8,
     "metadata": {},
     "output_type": "execute_result"
    }
   ],
   "source": [
    "#testing to verify if the function has worked\n",
    "soup.title"
   ]
  },
  {
   "cell_type": "markdown",
   "metadata": {},
   "source": [
    "# 2\\. Scraping TripAdvisor\n",
    "\n",
    "For this project, the reviews for TripAdvisor is scraped.  The reviews are marked with anchor tag 'a' and the class label 'review_count' is used to access urls for reviews.  The review addresses are then stored in a list format.  The function 'rev_address' is defined for this purpose.  As an initial step, the reviews for Botswana are scraped."
   ]
  },
  {
   "cell_type": "code",
   "execution_count": 9,
   "metadata": {
    "collapsed": true
   },
   "outputs": [],
   "source": [
    "r, soup = soupify(\"https://www.tripadvisor.com/Attractions-g293766-Activities-Botswana.html\")"
   ]
  },
  {
   "cell_type": "code",
   "execution_count": 10,
   "metadata": {
    "collapsed": true
   },
   "outputs": [],
   "source": [
    "def rev_address(r, soup):\n",
    "    r_links = []\n",
    "    for a in soup.find_all('a','review_count'):\n",
    "        r_links.append(a['href'])\n",
    "    return r_links"
   ]
  },
  {
   "cell_type": "code",
   "execution_count": 11,
   "metadata": {
    "collapsed": true
   },
   "outputs": [],
   "source": [
    "r_links = rev_address(r,soup)"
   ]
  },
  {
   "cell_type": "code",
   "execution_count": 12,
   "metadata": {},
   "outputs": [
    {
     "data": {
      "text/plain": [
       "[u'/Attraction_Review-g317055-d1643251-Reviews-Okavango_Delta-Maun_North_West_District.html#REVIEWS',\n",
       " u'/Attraction_Review-g316101-d553850-Reviews-Moremi_Wildlife_Reserve-Moremi_Game_Reserve_Okavango_Delta_North_West_District.html#REVIEWS',\n",
       " u'/Attraction_Review-g297318-d12172119-Reviews-Chobe_National_Park-Kasane_North_West_District.html#REVIEWS',\n",
       " u'/Attraction_Review-g472669-d478945-Reviews-Savute_Reserve-Chobe_National_Park_North_West_District.html#REVIEWS',\n",
       " u'/Attraction_Review-g293767-d3396948-Reviews-Three_Chiefs_Statues-Gaborone_South_East_District.html#REVIEWS',\n",
       " u'/Attraction_Review-g472673-d1171922-Reviews-Khwai_River_Bridge-Okavango_Delta_North_West_District.html#REVIEWS',\n",
       " u'/Attraction_Review-g480161-d311243-Reviews-Tsodilo_Hills-Shakawe_North_West_District.html#REVIEWS',\n",
       " u'/Attraction_Review-g293767-d3247057-Reviews-ISKCON_Gaborone-Gaborone_South_East_District.html#REVIEWS',\n",
       " u'/Attraction_Review-g317055-d1643251-Reviews-Okavango_Delta-Maun_North_West_District.html#REVIEWS',\n",
       " u'/Attraction_Review-g316101-d553850-Reviews-Moremi_Wildlife_Reserve-Moremi_Game_Reserve_Okavango_Delta_North_West_District.html#REVIEWS',\n",
       " u'/Attraction_Review-g472669-d478945-Reviews-Savute_Reserve-Chobe_National_Park_North_West_District.html#REVIEWS',\n",
       " u'/Attraction_Review-g472670-d3259396-Reviews-Makgadikgadi_Salt_Pan-Makgadikgadi_Pans_National_Park_Central_District.html#REVIEWS']"
      ]
     },
     "execution_count": 12,
     "metadata": {},
     "output_type": "execute_result"
    }
   ],
   "source": [
    "r_links"
   ]
  },
  {
   "cell_type": "markdown",
   "metadata": {},
   "source": [
    "Since these urls are not in an acceptable format for requests, we need to concatenate the base url to these addresses.  Function 'format_url' is defined for this purpose"
   ]
  },
  {
   "cell_type": "code",
   "execution_count": 13,
   "metadata": {
    "collapsed": true
   },
   "outputs": [],
   "source": [
    "def format_url(r_links):\n",
    "    base = 'http://www.tripadvisor.com{}'\n",
    "    for i in range(len(r_links)):\n",
    "        r_links[i] = base.format(r_links[i])\n",
    "    return r_links"
   ]
  },
  {
   "cell_type": "code",
   "execution_count": 14,
   "metadata": {
    "collapsed": true
   },
   "outputs": [],
   "source": [
    "#to confirm concatenation\n",
    "r_links = format_url(r_links)"
   ]
  },
  {
   "cell_type": "code",
   "execution_count": 15,
   "metadata": {},
   "outputs": [
    {
     "name": "stdout",
     "output_type": "stream",
     "text": [
      "http://www.tripadvisor.com/Attraction_Review-g317055-d1643251-Reviews-Okavango_Delta-Maun_North_West_District.html#REVIEWS\n",
      "http://www.tripadvisor.com/Attraction_Review-g316101-d553850-Reviews-Moremi_Wildlife_Reserve-Moremi_Game_Reserve_Okavango_Delta_North_West_District.html#REVIEWS\n",
      "http://www.tripadvisor.com/Attraction_Review-g297318-d12172119-Reviews-Chobe_National_Park-Kasane_North_West_District.html#REVIEWS\n",
      "http://www.tripadvisor.com/Attraction_Review-g472669-d478945-Reviews-Savute_Reserve-Chobe_National_Park_North_West_District.html#REVIEWS\n",
      "http://www.tripadvisor.com/Attraction_Review-g293767-d3396948-Reviews-Three_Chiefs_Statues-Gaborone_South_East_District.html#REVIEWS\n",
      "http://www.tripadvisor.com/Attraction_Review-g472673-d1171922-Reviews-Khwai_River_Bridge-Okavango_Delta_North_West_District.html#REVIEWS\n",
      "http://www.tripadvisor.com/Attraction_Review-g480161-d311243-Reviews-Tsodilo_Hills-Shakawe_North_West_District.html#REVIEWS\n",
      "http://www.tripadvisor.com/Attraction_Review-g293767-d3247057-Reviews-ISKCON_Gaborone-Gaborone_South_East_District.html#REVIEWS\n",
      "http://www.tripadvisor.com/Attraction_Review-g317055-d1643251-Reviews-Okavango_Delta-Maun_North_West_District.html#REVIEWS\n",
      "http://www.tripadvisor.com/Attraction_Review-g316101-d553850-Reviews-Moremi_Wildlife_Reserve-Moremi_Game_Reserve_Okavango_Delta_North_West_District.html#REVIEWS\n",
      "http://www.tripadvisor.com/Attraction_Review-g472669-d478945-Reviews-Savute_Reserve-Chobe_National_Park_North_West_District.html#REVIEWS\n",
      "http://www.tripadvisor.com/Attraction_Review-g472670-d3259396-Reviews-Makgadikgadi_Salt_Pan-Makgadikgadi_Pans_National_Park_Central_District.html#REVIEWS\n"
     ]
    }
   ],
   "source": [
    "print(\"\\n\".join(r_links))"
   ]
  },
  {
   "cell_type": "markdown",
   "metadata": {},
   "source": [
    "# 3\\. Scraping Reviews for Okavango Delta trips from Botswana category"
   ]
  },
  {
   "cell_type": "code",
   "execution_count": 16,
   "metadata": {},
   "outputs": [
    {
     "data": {
      "text/plain": [
       "'http://www.tripadvisor.com/Attraction_Review-g317055-d1643251-Reviews-Okavango_Delta-Maun_North_West_District.html#REVIEWS'"
      ]
     },
     "execution_count": 16,
     "metadata": {},
     "output_type": "execute_result"
    }
   ],
   "source": [
    "r_links[0]"
   ]
  },
  {
   "cell_type": "code",
   "execution_count": 17,
   "metadata": {
    "collapsed": true
   },
   "outputs": [],
   "source": [
    "r, soup = soupify(r_links[0])"
   ]
  },
  {
   "cell_type": "markdown",
   "metadata": {},
   "source": [
    "By inspecting above url, I notived that the reviews are within tag 'p', so I select for it: "
   ]
  },
  {
   "cell_type": "code",
   "execution_count": 18,
   "metadata": {
    "collapsed": true
   },
   "outputs": [],
   "source": [
    "p_list = soup.find_all('p', 'partial_entry')"
   ]
  },
  {
   "cell_type": "markdown",
   "metadata": {},
   "source": [
    "Below prints out an example entry of a review:"
   ]
  },
  {
   "cell_type": "code",
   "execution_count": 19,
   "metadata": {},
   "outputs": [
    {
     "data": {
      "text/plain": [
       "<p class=\"partial_entry\">Wild Africa at its best! This is an amazing place and it was a huge privilege to visit and stay within it at Gunns Concession.\\nWe arrived by air from Maun - in a four seat plane (including the pilot)! It was so exciting! And...<span class=\"taLnk ulBlueLinks\" onclick=\"widgetEvCall('handlers.clickExpand',event,this);\">More</span></p>"
      ]
     },
     "execution_count": 19,
     "metadata": {},
     "output_type": "execute_result"
    }
   ],
   "source": [
    "p_list[3]"
   ]
  },
  {
   "cell_type": "markdown",
   "metadata": {},
   "source": [
    "For each url, there are 10 reviews stored:"
   ]
  },
  {
   "cell_type": "code",
   "execution_count": 20,
   "metadata": {},
   "outputs": [
    {
     "data": {
      "text/plain": [
       "10"
      ]
     },
     "execution_count": 20,
     "metadata": {},
     "output_type": "execute_result"
    }
   ],
   "source": [
    "len(p_list)"
   ]
  },
  {
   "cell_type": "markdown",
   "metadata": {},
   "source": [
    "Then, this is something we can use repeatedly as well, so we define a function:"
   ]
  },
  {
   "cell_type": "code",
   "execution_count": 21,
   "metadata": {
    "collapsed": true
   },
   "outputs": [],
   "source": [
    "def list_reviews(r, soup):\n",
    "    p_list = soup.find_all('p', 'partial_entry')\n",
    "    return p_list"
   ]
  },
  {
   "cell_type": "code",
   "execution_count": 22,
   "metadata": {
    "collapsed": true
   },
   "outputs": [],
   "source": [
    "reviews = list_reviews(r, soup)"
   ]
  },
  {
   "cell_type": "code",
   "execution_count": 23,
   "metadata": {
    "collapsed": true
   },
   "outputs": [],
   "source": [
    "#need to revise below:"
   ]
  },
  {
   "cell_type": "code",
   "execution_count": 24,
   "metadata": {
    "collapsed": true
   },
   "outputs": [],
   "source": [
    "for i in range(len(p_list)):\n",
    "    p_list[i] = p_list[i].string"
   ]
  },
  {
   "cell_type": "code",
   "execution_count": 25,
   "metadata": {},
   "outputs": [
    {
     "data": {
      "text/plain": [
       "[u'wonderfull delta, peace and quit, lots of birds, and elephants. Nice guide, nice walk, nice food, really good to do !',\n",
       " u'We camped overnight on an island in the delta. The locals provided small boats (mokoro) and poled us out to the camp. From the camp we did wildlife viewing walks. Simply amazing.',\n",
       " u'The place has a dreamy feel about it. The game is good and there is a variety of accommodation you can consider from high end to overland trucking/tenting. A flight over the delta gives you the best impression of its expanse.',\n",
       " None,\n",
       " u'The diversity of the area has to be seen and experienced (you will not be disappointed), as it is truly nature (and Africa) at its best.\\nIt will leave you wanting more, much more!!!',\n",
       " None,\n",
       " None,\n",
       " None,\n",
       " None,\n",
       " u'Is a amazing experience! I did the airplane and the next day the helicopter and is speechless. I recommend this activities. Helicopter is more expensive but worth it!']"
      ]
     },
     "execution_count": 25,
     "metadata": {},
     "output_type": "execute_result"
    }
   ],
   "source": [
    "p_list"
   ]
  },
  {
   "cell_type": "markdown",
   "metadata": {},
   "source": [
    "While looking for more reviews, I noticed that 10 sets of reviews are stored in separate urls marked by 'Reviews-or10', 'Reviews-or20', 'Reviews-or30', and so on.  Then, we need to manipulate urls for right links.  This is something that could be done repeatedly as well, so we may define a function"
   ]
  },
  {
   "cell_type": "code",
   "execution_count": 26,
   "metadata": {},
   "outputs": [
    {
     "data": {
      "text/plain": [
       "62"
      ]
     },
     "execution_count": 26,
     "metadata": {},
     "output_type": "execute_result"
    }
   ],
   "source": [
    "ind = r_links[0].find('Reviews-')\n",
    "ind"
   ]
  },
  {
   "cell_type": "code",
   "execution_count": 27,
   "metadata": {},
   "outputs": [
    {
     "name": "stdout",
     "output_type": "stream",
     "text": [
      "http://www.tripadvisor.com/Attraction_Review-g317055-d1643251-Reviews-or10-Okavango_Delta-Maun_North_West_District.html#REVIEWS\n"
     ]
    }
   ],
   "source": [
    "link_new = r_links[0][:ind+8]+'or10-'+r_links[0][ind+8:]\n",
    "print link_new"
   ]
  },
  {
   "cell_type": "code",
   "execution_count": 28,
   "metadata": {
    "collapsed": true
   },
   "outputs": [],
   "source": [
    "def pgs_reviews_url(link_old, page):\n",
    "    ind = r_links[0].find('Reviews-')\n",
    "    link_new = r_links[0][:ind+8]+page+r_links[0][ind+8:]\n",
    "    return link_new"
   ]
  },
  {
   "cell_type": "code",
   "execution_count": 29,
   "metadata": {},
   "outputs": [
    {
     "name": "stdout",
     "output_type": "stream",
     "text": [
      "http://www.tripadvisor.com/Attraction_Review-g317055-d1643251-Reviews-or10-Okavango_Delta-Maun_North_West_District.html#REVIEWS\n"
     ]
    }
   ],
   "source": [
    "link_new = pgs_reviews_url(r_links[0], 'or10-')\n",
    "print link_new"
   ]
  },
  {
   "cell_type": "code",
   "execution_count": 30,
   "metadata": {
    "collapsed": true
   },
   "outputs": [],
   "source": [
    "r, soup = soupify(link_new)"
   ]
  },
  {
   "cell_type": "code",
   "execution_count": 31,
   "metadata": {
    "collapsed": true
   },
   "outputs": [],
   "source": [
    "pg2_reviews = list_reviews(r, soup)"
   ]
  },
  {
   "cell_type": "code",
   "execution_count": 32,
   "metadata": {},
   "outputs": [
    {
     "data": {
      "text/plain": [
       "<p class=\"partial_entry\">From different people I heard a scenic flight over the Okavango Delta is a must do. After contacting some companies, which were fully booked, I ended up with Kavango Air. On the telephone they said a one hour flight costs P3500 for two people. That's...<span class=\"taLnk ulBlueLinks\" onclick=\"widgetEvCall('handlers.clickExpand',event,this);\">More</span></p>"
      ]
     },
     "execution_count": 32,
     "metadata": {},
     "output_type": "execute_result"
    }
   ],
   "source": [
    "pg2_reviews[0]"
   ]
  },
  {
   "cell_type": "code",
   "execution_count": 33,
   "metadata": {},
   "outputs": [
    {
     "data": {
      "text/plain": [
       "10"
      ]
     },
     "execution_count": 33,
     "metadata": {},
     "output_type": "execute_result"
    }
   ],
   "source": [
    "#to verify that the next page also contains 10 reviews\n",
    "len(pg2_reviews)"
   ]
  },
  {
   "cell_type": "code",
   "execution_count": 34,
   "metadata": {
    "collapsed": true
   },
   "outputs": [],
   "source": [
    "def pg_urltag(endpg):\n",
    "    '''input endpg is the end page number\n",
    "    this function returns all url tags for \n",
    "    pages of url\n",
    "    '''\n",
    "    pgs = ['']\n",
    "\n",
    "    for i in range(1,endpg):\n",
    "        pgs.append('or{}0-'.format(i))\n",
    "    return pgs"
   ]
  },
  {
   "cell_type": "code",
   "execution_count": 35,
   "metadata": {
    "collapsed": true
   },
   "outputs": [],
   "source": [
    "pg_url = pg_urltag(20)"
   ]
  },
  {
   "cell_type": "code",
   "execution_count": 36,
   "metadata": {},
   "outputs": [
    {
     "data": {
      "text/plain": [
       "['',\n",
       " 'or10-',\n",
       " 'or20-',\n",
       " 'or30-',\n",
       " 'or40-',\n",
       " 'or50-',\n",
       " 'or60-',\n",
       " 'or70-',\n",
       " 'or80-',\n",
       " 'or90-',\n",
       " 'or100-',\n",
       " 'or110-',\n",
       " 'or120-',\n",
       " 'or130-',\n",
       " 'or140-',\n",
       " 'or150-',\n",
       " 'or160-',\n",
       " 'or170-',\n",
       " 'or180-',\n",
       " 'or190-']"
      ]
     },
     "execution_count": 36,
     "metadata": {},
     "output_type": "execute_result"
    }
   ],
   "source": [
    "pg_url"
   ]
  },
  {
   "cell_type": "code",
   "execution_count": null,
   "metadata": {
    "collapsed": true
   },
   "outputs": [],
   "source": []
  },
  {
   "cell_type": "markdown",
   "metadata": {},
   "source": [
    "# Moving Global: Countries!\n",
    "\n",
    "Eventually, we want to scrape for the selected countries.  I selected the below countries, and a map shows the selected regions in blue:\n",
    "![Selected countries for this project](img/amCharts.png)\n",
    "\n",
    "The countries with travel warnings are avoided: see the state department travel warnings for 2017.  Example countries are Syria (terrorism threats), Central Africa (wars), North Korea, etc. \n",
    "** (map doesnt contain Gambia.  Liberia removed and Gambia added) ** \n",
    "\n",
    "Places are picked using resources below:\n",
    "   - 1000 places to see before you die, patricia shultz\n",
    "   - tripadvisor's top 25 rising destinations of 2017\n",
    "   - personal taste\n",
    "\n",
    "Gathered lists of urls by continents are defined in this section."
   ]
  },
  {
   "cell_type": "code",
   "execution_count": 37,
   "metadata": {
    "collapsed": true
   },
   "outputs": [],
   "source": [
    "oceania = ['https://www.tripadvisor.com/Attractions-g255055-Activities-Australia.html',\n",
    "          'https://www.tripadvisor.com/Attractions-g294338-Activities-French_Polynesia.html',\n",
    "          'https://www.tripadvisor.com/Attractions-g255104-Activities-New_Zealand.html',\n",
    "          'https://www.tripadvisor.com/Attractions-g294115-Activities-Papua_New_Guinea.html'\n",
    "          ]"
   ]
  },
  {
   "cell_type": "code",
   "execution_count": 38,
   "metadata": {},
   "outputs": [
    {
     "data": {
      "text/plain": [
       "4"
      ]
     },
     "execution_count": 38,
     "metadata": {},
     "output_type": "execute_result"
    }
   ],
   "source": [
    "len(oceania)"
   ]
  },
  {
   "cell_type": "code",
   "execution_count": 39,
   "metadata": {
    "collapsed": true
   },
   "outputs": [],
   "source": [
    "asia = ['https://www.tripadvisor.com/Attractions-g293939-Activities-Cambodia.html',\n",
    "       'https://www.tripadvisor.com/Attractions-g294211-Activities-China.html',\n",
    "       'https://www.tripadvisor.com/Attractions-g293860-Activities-India.html',\n",
    "       'https://www.tripadvisor.com/Attractions-g294225-Activities-Indonesia.html',\n",
    "       'https://www.tripadvisor.com/Attractions-g293977-Activities-Israel.html',\n",
    "       'https://www.tripadvisor.com/Attractions-g294232-Activities-Japan.html',\n",
    "       'https://www.tripadvisor.com/Attractions-g293951-Activities-Malaysia.html',\n",
    "       'https://www.tripadvisor.com/Attractions-g293955-Activities-Mongolia.html',\n",
    "       'https://www.tripadvisor.com/Attractions-g293889-Activities-Nepal.html',\n",
    "       'https://www.tripadvisor.com/Attractions-g294006-Activities-Oman.html',\n",
    "       'https://www.tripadvisor.com/Attractions-g294196-Activities-South_Korea.html',\n",
    "       'https://www.tripadvisor.com/Attractions-g293915-Activities-Thailand.html',\n",
    "       'https://www.tripadvisor.com/Attractions-g294012-Activities-United_Arab_Emirates.html'\n",
    "       ]"
   ]
  },
  {
   "cell_type": "code",
   "execution_count": 40,
   "metadata": {},
   "outputs": [
    {
     "data": {
      "text/plain": [
       "13"
      ]
     },
     "execution_count": 40,
     "metadata": {},
     "output_type": "execute_result"
    }
   ],
   "source": [
    "len(asia)"
   ]
  },
  {
   "cell_type": "code",
   "execution_count": 41,
   "metadata": {
    "collapsed": true
   },
   "outputs": [],
   "source": [
    "africa = ['https://www.tripadvisor.com/Attractions-g293717-Activities-Algeria.html',\n",
    "         'https://www.tripadvisor.com/Attractions-g293762-Activities-Angola.html',\n",
    "         'https://www.tripadvisor.com/Attractions-g293766-Activities-Botswana.html',\n",
    "         'https://www.tripadvisor.com/Attractions-g294192-Activities-Cote_d_Ivoire.html',\n",
    "         'https://www.tripadvisor.com/Attractions-g294200-Activities-Egypt.html',\n",
    "         'https://www.tripadvisor.com/Attractions-g294206-Activities-Kenya.html',\n",
    "         'https://www.tripadvisor.com/Attractions-g293794-Activities-Gambia.html',\n",
    "         'https://www.tripadvisor.com/Attractions-g293808-Activities-Madagascar.html',\n",
    "         'https://www.tripadvisor.com/Attractions-g293730-Activities-Morocco.html',\n",
    "         'https://www.tripadvisor.com/Attractions-g293820-Activities-Namibia.html',\n",
    "         'https://www.tripadvisor.com/Attractions-g293830-Activities-Senegal.html',\n",
    "         'https://www.tripadvisor.com/Attractions-g293832-Activities-Sierra_Leone.html',\n",
    "         'https://www.tripadvisor.com/Attractions-g293740-Activities-South_Africa.html',\n",
    "         'https://www.tripadvisor.com/Attractions-g293747-Activities-Tanzania.html'\n",
    "         ]\n",
    "#possibly get rid of Liberia?"
   ]
  },
  {
   "cell_type": "code",
   "execution_count": 42,
   "metadata": {},
   "outputs": [
    {
     "data": {
      "text/plain": [
       "14"
      ]
     },
     "execution_count": 42,
     "metadata": {},
     "output_type": "execute_result"
    }
   ],
   "source": [
    "len(africa)"
   ]
  },
  {
   "cell_type": "code",
   "execution_count": 43,
   "metadata": {
    "collapsed": true
   },
   "outputs": [],
   "source": [
    "sa = ['https://www.tripadvisor.com/Attractions-g294266-Activities-Argentina.html',\n",
    "      'https://www.tripadvisor.com/Attractions-g294280-Activities-Brazil.html',\n",
    "      'https://www.tripadvisor.com/Attractions-g294291-Activities-Chile.html',\n",
    "      'https://www.tripadvisor.com/Attractions-g294311-Activities-Peru.html'\n",
    "     ]"
   ]
  },
  {
   "cell_type": "code",
   "execution_count": 44,
   "metadata": {},
   "outputs": [
    {
     "data": {
      "text/plain": [
       "4"
      ]
     },
     "execution_count": 44,
     "metadata": {},
     "output_type": "execute_result"
    }
   ],
   "source": [
    "len(sa)"
   ]
  },
  {
   "cell_type": "code",
   "execution_count": 45,
   "metadata": {
    "collapsed": true
   },
   "outputs": [],
   "source": [
    "na = ['https://www.tripadvisor.com/Attractions-g291959-Activities-Belize.html',\n",
    "      'https://www.tripadvisor.com/Attractions-g153339-Activities-Canada.html',\n",
    "      'https://www.tripadvisor.com/Attractions-g147364-Activities-Cayman_Islands.html',\n",
    "      'https://www.tripadvisor.com/Attractions-g291982-Activities-Costa_Rica.html',\n",
    "      'https://www.tripadvisor.com/Attractions-g147270-Activities-Cuba.html',\n",
    "      'https://www.tripadvisor.com/Attractions-g147277-Activities-Curacao.html',\n",
    "      'https://www.tripadvisor.com/Attractions-g295111-Activities-Greenland.html',\n",
    "      'https://www.tripadvisor.com/Attractions-g147295-Activities-Grenada.html',\n",
    "      'https://www.tripadvisor.com/Attractions-g292016-Activities-Honduras.html',\n",
    "      'https://www.tripadvisor.com/Attractions-g150768-Activities-Mexico.html',\n",
    "      'https://www.tripadvisor.com/Attractions-g294477-Activities-Nicaragua.html',\n",
    "      'https://www.tripadvisor.com/Attractions-g294479-Activities-Panama.html',\n",
    "      'https://www.tripadvisor.com/Attractions-g191-Activities-United_States.html'\n",
    "     ]\n",
    "#cuba?!\n",
    "#big countries - US, CANADA"
   ]
  },
  {
   "cell_type": "code",
   "execution_count": 46,
   "metadata": {},
   "outputs": [
    {
     "data": {
      "text/plain": [
       "13"
      ]
     },
     "execution_count": 46,
     "metadata": {},
     "output_type": "execute_result"
    }
   ],
   "source": [
    "len(na)"
   ]
  },
  {
   "cell_type": "code",
   "execution_count": 47,
   "metadata": {
    "collapsed": true
   },
   "outputs": [],
   "source": [
    "europe = ['https://www.tripadvisor.com/Attractions-g190410-Activities-Austria.html',\n",
    "      'https://www.tripadvisor.com/Attractions-g294451-Activities-Bulgaria.html',\n",
    "      'https://www.tripadvisor.com/Attractions-g274684-Activities-Czech_Republic.html',\n",
    "      'https://www.tripadvisor.com/Attractions-g189512-Activities-Denmark.html',\n",
    "      'https://www.tripadvisor.com/Attractions-g274952-Activities-Estonia.html',\n",
    "      'https://www.tripadvisor.com/Attractions-g189896-Activities-Finland.html',\n",
    "      'https://www.tripadvisor.com/Attractions-g187070-Activities-France.html',\n",
    "      'https://www.tripadvisor.com/Attractions-g187275-Activities-Germany.html',\n",
    "      'https://www.tripadvisor.com/Attractions-g189398-Activities-Greece.html',\n",
    "      'https://www.tripadvisor.com/Attractions-g274881-Activities-Hungary.html',\n",
    "      'https://www.tripadvisor.com/Attractions-g189952-Activities-Iceland.html',\n",
    "      'https://www.tripadvisor.com/Attractions-g187768-Activities-Italy.html',\n",
    "      'https://www.tripadvisor.com/Attractions-g190455-Activities-Norway.html',\n",
    "      'https://www.tripadvisor.com/Attractions-g189100-Activities-Portugal.html',\n",
    "      'https://www.tripadvisor.com/Attractions-g294457-Activities-Romania.html',\n",
    "      'https://www.tripadvisor.com/Attractions-g294459-Activities-Russia.html',\n",
    "      'https://www.tripadvisor.com/Attractions-g294471-Activities-Serbia.html',\n",
    "      'https://www.tripadvisor.com/Attractions-g187427-Activities-Spain.html',\n",
    "      'https://www.tripadvisor.com/Attractions-g189806-Activities-Sweden.html',\n",
    "      'https://www.tripadvisor.com/Attractions-g293969-Activities-Turkey.html',\n",
    "      'https://www.tripadvisor.com/Attractions-g186216-Activities-United_Kingdom.html'\n",
    "     ]"
   ]
  },
  {
   "cell_type": "code",
   "execution_count": 48,
   "metadata": {},
   "outputs": [
    {
     "data": {
      "text/plain": [
       "21"
      ]
     },
     "execution_count": 48,
     "metadata": {},
     "output_type": "execute_result"
    }
   ],
   "source": [
    "len(europe)"
   ]
  },
  {
   "cell_type": "code",
   "execution_count": 49,
   "metadata": {},
   "outputs": [
    {
     "data": {
      "text/plain": [
       "69"
      ]
     },
     "execution_count": 49,
     "metadata": {},
     "output_type": "execute_result"
    }
   ],
   "source": [
    "len(oceania)+len(na)+len(sa)+len(africa)+len(asia)+len(europe)"
   ]
  },
  {
   "cell_type": "code",
   "execution_count": 50,
   "metadata": {},
   "outputs": [
    {
     "data": {
      "text/plain": [
       "690000"
      ]
     },
     "execution_count": 50,
     "metadata": {},
     "output_type": "execute_result"
    }
   ],
   "source": [
    "69*10000"
   ]
  },
  {
   "cell_type": "markdown",
   "metadata": {},
   "source": [
    "# Data Organization\n",
    "\n",
    "## Saving URLs to a CSV file"
   ]
  },
  {
   "cell_type": "code",
   "execution_count": 51,
   "metadata": {
    "collapsed": true
   },
   "outputs": [],
   "source": [
    "oceania_label = ['oceania']*4\n",
    "asia_label = ['asia']*13\n",
    "africa_label = ['africa']*14\n",
    "sa_label = ['sa']*4\n",
    "na_label = ['na']*13\n",
    "europe_label = ['europe']*21"
   ]
  },
  {
   "cell_type": "code",
   "execution_count": 52,
   "metadata": {},
   "outputs": [
    {
     "data": {
      "text/plain": [
       "[('oceania',\n",
       "  'https://www.tripadvisor.com/Attractions-g255055-Activities-Australia.html'),\n",
       " ('oceania',\n",
       "  'https://www.tripadvisor.com/Attractions-g294338-Activities-French_Polynesia.html'),\n",
       " ('oceania',\n",
       "  'https://www.tripadvisor.com/Attractions-g255104-Activities-New_Zealand.html'),\n",
       " ('oceania',\n",
       "  'https://www.tripadvisor.com/Attractions-g294115-Activities-Papua_New_Guinea.html')]"
      ]
     },
     "execution_count": 52,
     "metadata": {},
     "output_type": "execute_result"
    }
   ],
   "source": [
    "zip(oceania_label, oceania)"
   ]
  },
  {
   "cell_type": "code",
   "execution_count": 53,
   "metadata": {
    "collapsed": true
   },
   "outputs": [],
   "source": [
    "test = open('test.csv', 'wb')"
   ]
  },
  {
   "cell_type": "code",
   "execution_count": 54,
   "metadata": {
    "collapsed": true
   },
   "outputs": [],
   "source": [
    "file_writer = csv.writer(test)"
   ]
  },
  {
   "cell_type": "code",
   "execution_count": 55,
   "metadata": {
    "collapsed": true
   },
   "outputs": [],
   "source": [
    "for x in zip(oceania_label, oceania):\n",
    "    file_writer.writerow(x)"
   ]
  },
  {
   "cell_type": "code",
   "execution_count": 56,
   "metadata": {
    "collapsed": true
   },
   "outputs": [],
   "source": [
    "def extract_country(x):\n",
    "    return x.split('-')[-1].split('.')[0]"
   ]
  },
  {
   "cell_type": "code",
   "execution_count": 57,
   "metadata": {
    "collapsed": true
   },
   "outputs": [],
   "source": [
    "oceania_countries=[]\n",
    "for x in oceania:\n",
    "    oceania_countries.append(extract_country(x))\n",
    "    \n",
    "asia_countries=[]\n",
    "for x in asia:\n",
    "    asia_countries.append(extract_country(x))\n",
    "\n",
    "africa_countries=[]\n",
    "for x in africa:\n",
    "    africa_countries.append(extract_country(x))\n",
    "    \n",
    "na_countries=[]\n",
    "for x in na:\n",
    "    na_countries.append(extract_country(x))\n",
    "    \n",
    "sa_countries=[]\n",
    "for x in sa:\n",
    "    sa_countries.append(extract_country(x))\n",
    "    \n",
    "europe_countries=[]\n",
    "for x in europe:\n",
    "    europe_countries.append(extract_country(x))"
   ]
  },
  {
   "cell_type": "code",
   "execution_count": 58,
   "metadata": {
    "collapsed": true
   },
   "outputs": [],
   "source": [
    "oceania_total = zip(oceania_label, oceania_countries, oceania)\n",
    "asia_total = zip(asia_label, asia_countries, asia)\n",
    "africa_total = zip(africa_label, africa_countries, africa)\n",
    "sa_total = zip(sa_label, sa_countries, sa)\n",
    "na_total = zip(na_label, na_countries, na)\n",
    "europe_total = zip(europe_label, europe_countries, europe)"
   ]
  },
  {
   "cell_type": "code",
   "execution_count": 59,
   "metadata": {
    "collapsed": true
   },
   "outputs": [],
   "source": [
    "with open('world.csv','wb') as out:\n",
    "    csv_out=csv.writer(out)\n",
    "    csv_out.writerow(['continent','country','url'])\n",
    "    for row in oceania_total:\n",
    "        csv_out.writerow(row)\n",
    "    for row in asia_total:\n",
    "        csv_out.writerow(row)\n",
    "    for row in africa_total:\n",
    "        csv_out.writerow(row)\n",
    "    for row in sa_total:\n",
    "        csv_out.writerow(row)\n",
    "    for row in na_total:\n",
    "        csv_out.writerow(row)\n",
    "    for row in europe_total:\n",
    "        csv_out.writerow(row)"
   ]
  },
  {
   "cell_type": "code",
   "execution_count": 60,
   "metadata": {},
   "outputs": [
    {
     "data": {
      "text/html": [
       "<div>\n",
       "<style>\n",
       "    .dataframe thead tr:only-child th {\n",
       "        text-align: right;\n",
       "    }\n",
       "\n",
       "    .dataframe thead th {\n",
       "        text-align: left;\n",
       "    }\n",
       "\n",
       "    .dataframe tbody tr th {\n",
       "        vertical-align: top;\n",
       "    }\n",
       "</style>\n",
       "<table border=\"1\" class=\"dataframe\">\n",
       "  <thead>\n",
       "    <tr style=\"text-align: right;\">\n",
       "      <th></th>\n",
       "      <th>continent</th>\n",
       "      <th>country</th>\n",
       "      <th>url</th>\n",
       "    </tr>\n",
       "  </thead>\n",
       "  <tbody>\n",
       "    <tr>\n",
       "      <th>0</th>\n",
       "      <td>oceania</td>\n",
       "      <td>Australia</td>\n",
       "      <td>https://www.tripadvisor.com/Attractions-g25505...</td>\n",
       "    </tr>\n",
       "    <tr>\n",
       "      <th>1</th>\n",
       "      <td>oceania</td>\n",
       "      <td>French_Polynesia</td>\n",
       "      <td>https://www.tripadvisor.com/Attractions-g29433...</td>\n",
       "    </tr>\n",
       "    <tr>\n",
       "      <th>2</th>\n",
       "      <td>oceania</td>\n",
       "      <td>New_Zealand</td>\n",
       "      <td>https://www.tripadvisor.com/Attractions-g25510...</td>\n",
       "    </tr>\n",
       "    <tr>\n",
       "      <th>3</th>\n",
       "      <td>oceania</td>\n",
       "      <td>Papua_New_Guinea</td>\n",
       "      <td>https://www.tripadvisor.com/Attractions-g29411...</td>\n",
       "    </tr>\n",
       "    <tr>\n",
       "      <th>4</th>\n",
       "      <td>asia</td>\n",
       "      <td>Cambodia</td>\n",
       "      <td>https://www.tripadvisor.com/Attractions-g29393...</td>\n",
       "    </tr>\n",
       "    <tr>\n",
       "      <th>5</th>\n",
       "      <td>asia</td>\n",
       "      <td>China</td>\n",
       "      <td>https://www.tripadvisor.com/Attractions-g29421...</td>\n",
       "    </tr>\n",
       "    <tr>\n",
       "      <th>6</th>\n",
       "      <td>asia</td>\n",
       "      <td>India</td>\n",
       "      <td>https://www.tripadvisor.com/Attractions-g29386...</td>\n",
       "    </tr>\n",
       "    <tr>\n",
       "      <th>7</th>\n",
       "      <td>asia</td>\n",
       "      <td>Indonesia</td>\n",
       "      <td>https://www.tripadvisor.com/Attractions-g29422...</td>\n",
       "    </tr>\n",
       "    <tr>\n",
       "      <th>8</th>\n",
       "      <td>asia</td>\n",
       "      <td>Israel</td>\n",
       "      <td>https://www.tripadvisor.com/Attractions-g29397...</td>\n",
       "    </tr>\n",
       "    <tr>\n",
       "      <th>9</th>\n",
       "      <td>asia</td>\n",
       "      <td>Japan</td>\n",
       "      <td>https://www.tripadvisor.com/Attractions-g29423...</td>\n",
       "    </tr>\n",
       "    <tr>\n",
       "      <th>10</th>\n",
       "      <td>asia</td>\n",
       "      <td>Malaysia</td>\n",
       "      <td>https://www.tripadvisor.com/Attractions-g29395...</td>\n",
       "    </tr>\n",
       "    <tr>\n",
       "      <th>11</th>\n",
       "      <td>asia</td>\n",
       "      <td>Mongolia</td>\n",
       "      <td>https://www.tripadvisor.com/Attractions-g29395...</td>\n",
       "    </tr>\n",
       "    <tr>\n",
       "      <th>12</th>\n",
       "      <td>asia</td>\n",
       "      <td>Nepal</td>\n",
       "      <td>https://www.tripadvisor.com/Attractions-g29388...</td>\n",
       "    </tr>\n",
       "    <tr>\n",
       "      <th>13</th>\n",
       "      <td>asia</td>\n",
       "      <td>Oman</td>\n",
       "      <td>https://www.tripadvisor.com/Attractions-g29400...</td>\n",
       "    </tr>\n",
       "    <tr>\n",
       "      <th>14</th>\n",
       "      <td>asia</td>\n",
       "      <td>South_Korea</td>\n",
       "      <td>https://www.tripadvisor.com/Attractions-g29419...</td>\n",
       "    </tr>\n",
       "    <tr>\n",
       "      <th>15</th>\n",
       "      <td>asia</td>\n",
       "      <td>Thailand</td>\n",
       "      <td>https://www.tripadvisor.com/Attractions-g29391...</td>\n",
       "    </tr>\n",
       "    <tr>\n",
       "      <th>16</th>\n",
       "      <td>asia</td>\n",
       "      <td>United_Arab_Emirates</td>\n",
       "      <td>https://www.tripadvisor.com/Attractions-g29401...</td>\n",
       "    </tr>\n",
       "    <tr>\n",
       "      <th>17</th>\n",
       "      <td>africa</td>\n",
       "      <td>Algeria</td>\n",
       "      <td>https://www.tripadvisor.com/Attractions-g29371...</td>\n",
       "    </tr>\n",
       "    <tr>\n",
       "      <th>18</th>\n",
       "      <td>africa</td>\n",
       "      <td>Angola</td>\n",
       "      <td>https://www.tripadvisor.com/Attractions-g29376...</td>\n",
       "    </tr>\n",
       "    <tr>\n",
       "      <th>19</th>\n",
       "      <td>africa</td>\n",
       "      <td>Botswana</td>\n",
       "      <td>https://www.tripadvisor.com/Attractions-g29376...</td>\n",
       "    </tr>\n",
       "    <tr>\n",
       "      <th>20</th>\n",
       "      <td>africa</td>\n",
       "      <td>Cote_d_Ivoire</td>\n",
       "      <td>https://www.tripadvisor.com/Attractions-g29419...</td>\n",
       "    </tr>\n",
       "    <tr>\n",
       "      <th>21</th>\n",
       "      <td>africa</td>\n",
       "      <td>Egypt</td>\n",
       "      <td>https://www.tripadvisor.com/Attractions-g29420...</td>\n",
       "    </tr>\n",
       "    <tr>\n",
       "      <th>22</th>\n",
       "      <td>africa</td>\n",
       "      <td>Kenya</td>\n",
       "      <td>https://www.tripadvisor.com/Attractions-g29420...</td>\n",
       "    </tr>\n",
       "    <tr>\n",
       "      <th>23</th>\n",
       "      <td>africa</td>\n",
       "      <td>Gambia</td>\n",
       "      <td>https://www.tripadvisor.com/Attractions-g29379...</td>\n",
       "    </tr>\n",
       "    <tr>\n",
       "      <th>24</th>\n",
       "      <td>africa</td>\n",
       "      <td>Madagascar</td>\n",
       "      <td>https://www.tripadvisor.com/Attractions-g29380...</td>\n",
       "    </tr>\n",
       "    <tr>\n",
       "      <th>25</th>\n",
       "      <td>africa</td>\n",
       "      <td>Morocco</td>\n",
       "      <td>https://www.tripadvisor.com/Attractions-g29373...</td>\n",
       "    </tr>\n",
       "    <tr>\n",
       "      <th>26</th>\n",
       "      <td>africa</td>\n",
       "      <td>Namibia</td>\n",
       "      <td>https://www.tripadvisor.com/Attractions-g29382...</td>\n",
       "    </tr>\n",
       "    <tr>\n",
       "      <th>27</th>\n",
       "      <td>africa</td>\n",
       "      <td>Senegal</td>\n",
       "      <td>https://www.tripadvisor.com/Attractions-g29383...</td>\n",
       "    </tr>\n",
       "    <tr>\n",
       "      <th>28</th>\n",
       "      <td>africa</td>\n",
       "      <td>Sierra_Leone</td>\n",
       "      <td>https://www.tripadvisor.com/Attractions-g29383...</td>\n",
       "    </tr>\n",
       "    <tr>\n",
       "      <th>29</th>\n",
       "      <td>africa</td>\n",
       "      <td>South_Africa</td>\n",
       "      <td>https://www.tripadvisor.com/Attractions-g29374...</td>\n",
       "    </tr>\n",
       "    <tr>\n",
       "      <th>...</th>\n",
       "      <td>...</td>\n",
       "      <td>...</td>\n",
       "      <td>...</td>\n",
       "    </tr>\n",
       "    <tr>\n",
       "      <th>39</th>\n",
       "      <td>na</td>\n",
       "      <td>Cuba</td>\n",
       "      <td>https://www.tripadvisor.com/Attractions-g14727...</td>\n",
       "    </tr>\n",
       "    <tr>\n",
       "      <th>40</th>\n",
       "      <td>na</td>\n",
       "      <td>Curacao</td>\n",
       "      <td>https://www.tripadvisor.com/Attractions-g14727...</td>\n",
       "    </tr>\n",
       "    <tr>\n",
       "      <th>41</th>\n",
       "      <td>na</td>\n",
       "      <td>Greenland</td>\n",
       "      <td>https://www.tripadvisor.com/Attractions-g29511...</td>\n",
       "    </tr>\n",
       "    <tr>\n",
       "      <th>42</th>\n",
       "      <td>na</td>\n",
       "      <td>Grenada</td>\n",
       "      <td>https://www.tripadvisor.com/Attractions-g14729...</td>\n",
       "    </tr>\n",
       "    <tr>\n",
       "      <th>43</th>\n",
       "      <td>na</td>\n",
       "      <td>Honduras</td>\n",
       "      <td>https://www.tripadvisor.com/Attractions-g29201...</td>\n",
       "    </tr>\n",
       "    <tr>\n",
       "      <th>44</th>\n",
       "      <td>na</td>\n",
       "      <td>Mexico</td>\n",
       "      <td>https://www.tripadvisor.com/Attractions-g15076...</td>\n",
       "    </tr>\n",
       "    <tr>\n",
       "      <th>45</th>\n",
       "      <td>na</td>\n",
       "      <td>Nicaragua</td>\n",
       "      <td>https://www.tripadvisor.com/Attractions-g29447...</td>\n",
       "    </tr>\n",
       "    <tr>\n",
       "      <th>46</th>\n",
       "      <td>na</td>\n",
       "      <td>Panama</td>\n",
       "      <td>https://www.tripadvisor.com/Attractions-g29447...</td>\n",
       "    </tr>\n",
       "    <tr>\n",
       "      <th>47</th>\n",
       "      <td>na</td>\n",
       "      <td>United_States</td>\n",
       "      <td>https://www.tripadvisor.com/Attractions-g191-A...</td>\n",
       "    </tr>\n",
       "    <tr>\n",
       "      <th>48</th>\n",
       "      <td>europe</td>\n",
       "      <td>Austria</td>\n",
       "      <td>https://www.tripadvisor.com/Attractions-g19041...</td>\n",
       "    </tr>\n",
       "    <tr>\n",
       "      <th>49</th>\n",
       "      <td>europe</td>\n",
       "      <td>Bulgaria</td>\n",
       "      <td>https://www.tripadvisor.com/Attractions-g29445...</td>\n",
       "    </tr>\n",
       "    <tr>\n",
       "      <th>50</th>\n",
       "      <td>europe</td>\n",
       "      <td>Czech_Republic</td>\n",
       "      <td>https://www.tripadvisor.com/Attractions-g27468...</td>\n",
       "    </tr>\n",
       "    <tr>\n",
       "      <th>51</th>\n",
       "      <td>europe</td>\n",
       "      <td>Denmark</td>\n",
       "      <td>https://www.tripadvisor.com/Attractions-g18951...</td>\n",
       "    </tr>\n",
       "    <tr>\n",
       "      <th>52</th>\n",
       "      <td>europe</td>\n",
       "      <td>Estonia</td>\n",
       "      <td>https://www.tripadvisor.com/Attractions-g27495...</td>\n",
       "    </tr>\n",
       "    <tr>\n",
       "      <th>53</th>\n",
       "      <td>europe</td>\n",
       "      <td>Finland</td>\n",
       "      <td>https://www.tripadvisor.com/Attractions-g18989...</td>\n",
       "    </tr>\n",
       "    <tr>\n",
       "      <th>54</th>\n",
       "      <td>europe</td>\n",
       "      <td>France</td>\n",
       "      <td>https://www.tripadvisor.com/Attractions-g18707...</td>\n",
       "    </tr>\n",
       "    <tr>\n",
       "      <th>55</th>\n",
       "      <td>europe</td>\n",
       "      <td>Germany</td>\n",
       "      <td>https://www.tripadvisor.com/Attractions-g18727...</td>\n",
       "    </tr>\n",
       "    <tr>\n",
       "      <th>56</th>\n",
       "      <td>europe</td>\n",
       "      <td>Greece</td>\n",
       "      <td>https://www.tripadvisor.com/Attractions-g18939...</td>\n",
       "    </tr>\n",
       "    <tr>\n",
       "      <th>57</th>\n",
       "      <td>europe</td>\n",
       "      <td>Hungary</td>\n",
       "      <td>https://www.tripadvisor.com/Attractions-g27488...</td>\n",
       "    </tr>\n",
       "    <tr>\n",
       "      <th>58</th>\n",
       "      <td>europe</td>\n",
       "      <td>Iceland</td>\n",
       "      <td>https://www.tripadvisor.com/Attractions-g18995...</td>\n",
       "    </tr>\n",
       "    <tr>\n",
       "      <th>59</th>\n",
       "      <td>europe</td>\n",
       "      <td>Italy</td>\n",
       "      <td>https://www.tripadvisor.com/Attractions-g18776...</td>\n",
       "    </tr>\n",
       "    <tr>\n",
       "      <th>60</th>\n",
       "      <td>europe</td>\n",
       "      <td>Norway</td>\n",
       "      <td>https://www.tripadvisor.com/Attractions-g19045...</td>\n",
       "    </tr>\n",
       "    <tr>\n",
       "      <th>61</th>\n",
       "      <td>europe</td>\n",
       "      <td>Portugal</td>\n",
       "      <td>https://www.tripadvisor.com/Attractions-g18910...</td>\n",
       "    </tr>\n",
       "    <tr>\n",
       "      <th>62</th>\n",
       "      <td>europe</td>\n",
       "      <td>Romania</td>\n",
       "      <td>https://www.tripadvisor.com/Attractions-g29445...</td>\n",
       "    </tr>\n",
       "    <tr>\n",
       "      <th>63</th>\n",
       "      <td>europe</td>\n",
       "      <td>Russia</td>\n",
       "      <td>https://www.tripadvisor.com/Attractions-g29445...</td>\n",
       "    </tr>\n",
       "    <tr>\n",
       "      <th>64</th>\n",
       "      <td>europe</td>\n",
       "      <td>Serbia</td>\n",
       "      <td>https://www.tripadvisor.com/Attractions-g29447...</td>\n",
       "    </tr>\n",
       "    <tr>\n",
       "      <th>65</th>\n",
       "      <td>europe</td>\n",
       "      <td>Spain</td>\n",
       "      <td>https://www.tripadvisor.com/Attractions-g18742...</td>\n",
       "    </tr>\n",
       "    <tr>\n",
       "      <th>66</th>\n",
       "      <td>europe</td>\n",
       "      <td>Sweden</td>\n",
       "      <td>https://www.tripadvisor.com/Attractions-g18980...</td>\n",
       "    </tr>\n",
       "    <tr>\n",
       "      <th>67</th>\n",
       "      <td>europe</td>\n",
       "      <td>Turkey</td>\n",
       "      <td>https://www.tripadvisor.com/Attractions-g29396...</td>\n",
       "    </tr>\n",
       "    <tr>\n",
       "      <th>68</th>\n",
       "      <td>europe</td>\n",
       "      <td>United_Kingdom</td>\n",
       "      <td>https://www.tripadvisor.com/Attractions-g18621...</td>\n",
       "    </tr>\n",
       "  </tbody>\n",
       "</table>\n",
       "<p>69 rows × 3 columns</p>\n",
       "</div>"
      ],
      "text/plain": [
       "   continent               country  \\\n",
       "0    oceania             Australia   \n",
       "1    oceania      French_Polynesia   \n",
       "2    oceania           New_Zealand   \n",
       "3    oceania      Papua_New_Guinea   \n",
       "4       asia              Cambodia   \n",
       "5       asia                 China   \n",
       "6       asia                 India   \n",
       "7       asia             Indonesia   \n",
       "8       asia                Israel   \n",
       "9       asia                 Japan   \n",
       "10      asia              Malaysia   \n",
       "11      asia              Mongolia   \n",
       "12      asia                 Nepal   \n",
       "13      asia                  Oman   \n",
       "14      asia           South_Korea   \n",
       "15      asia              Thailand   \n",
       "16      asia  United_Arab_Emirates   \n",
       "17    africa               Algeria   \n",
       "18    africa                Angola   \n",
       "19    africa              Botswana   \n",
       "20    africa         Cote_d_Ivoire   \n",
       "21    africa                 Egypt   \n",
       "22    africa                 Kenya   \n",
       "23    africa                Gambia   \n",
       "24    africa            Madagascar   \n",
       "25    africa               Morocco   \n",
       "26    africa               Namibia   \n",
       "27    africa               Senegal   \n",
       "28    africa          Sierra_Leone   \n",
       "29    africa          South_Africa   \n",
       "..       ...                   ...   \n",
       "39        na                  Cuba   \n",
       "40        na               Curacao   \n",
       "41        na             Greenland   \n",
       "42        na               Grenada   \n",
       "43        na              Honduras   \n",
       "44        na                Mexico   \n",
       "45        na             Nicaragua   \n",
       "46        na                Panama   \n",
       "47        na         United_States   \n",
       "48    europe               Austria   \n",
       "49    europe              Bulgaria   \n",
       "50    europe        Czech_Republic   \n",
       "51    europe               Denmark   \n",
       "52    europe               Estonia   \n",
       "53    europe               Finland   \n",
       "54    europe                France   \n",
       "55    europe               Germany   \n",
       "56    europe                Greece   \n",
       "57    europe               Hungary   \n",
       "58    europe               Iceland   \n",
       "59    europe                 Italy   \n",
       "60    europe                Norway   \n",
       "61    europe              Portugal   \n",
       "62    europe               Romania   \n",
       "63    europe                Russia   \n",
       "64    europe                Serbia   \n",
       "65    europe                 Spain   \n",
       "66    europe                Sweden   \n",
       "67    europe                Turkey   \n",
       "68    europe        United_Kingdom   \n",
       "\n",
       "                                                  url  \n",
       "0   https://www.tripadvisor.com/Attractions-g25505...  \n",
       "1   https://www.tripadvisor.com/Attractions-g29433...  \n",
       "2   https://www.tripadvisor.com/Attractions-g25510...  \n",
       "3   https://www.tripadvisor.com/Attractions-g29411...  \n",
       "4   https://www.tripadvisor.com/Attractions-g29393...  \n",
       "5   https://www.tripadvisor.com/Attractions-g29421...  \n",
       "6   https://www.tripadvisor.com/Attractions-g29386...  \n",
       "7   https://www.tripadvisor.com/Attractions-g29422...  \n",
       "8   https://www.tripadvisor.com/Attractions-g29397...  \n",
       "9   https://www.tripadvisor.com/Attractions-g29423...  \n",
       "10  https://www.tripadvisor.com/Attractions-g29395...  \n",
       "11  https://www.tripadvisor.com/Attractions-g29395...  \n",
       "12  https://www.tripadvisor.com/Attractions-g29388...  \n",
       "13  https://www.tripadvisor.com/Attractions-g29400...  \n",
       "14  https://www.tripadvisor.com/Attractions-g29419...  \n",
       "15  https://www.tripadvisor.com/Attractions-g29391...  \n",
       "16  https://www.tripadvisor.com/Attractions-g29401...  \n",
       "17  https://www.tripadvisor.com/Attractions-g29371...  \n",
       "18  https://www.tripadvisor.com/Attractions-g29376...  \n",
       "19  https://www.tripadvisor.com/Attractions-g29376...  \n",
       "20  https://www.tripadvisor.com/Attractions-g29419...  \n",
       "21  https://www.tripadvisor.com/Attractions-g29420...  \n",
       "22  https://www.tripadvisor.com/Attractions-g29420...  \n",
       "23  https://www.tripadvisor.com/Attractions-g29379...  \n",
       "24  https://www.tripadvisor.com/Attractions-g29380...  \n",
       "25  https://www.tripadvisor.com/Attractions-g29373...  \n",
       "26  https://www.tripadvisor.com/Attractions-g29382...  \n",
       "27  https://www.tripadvisor.com/Attractions-g29383...  \n",
       "28  https://www.tripadvisor.com/Attractions-g29383...  \n",
       "29  https://www.tripadvisor.com/Attractions-g29374...  \n",
       "..                                                ...  \n",
       "39  https://www.tripadvisor.com/Attractions-g14727...  \n",
       "40  https://www.tripadvisor.com/Attractions-g14727...  \n",
       "41  https://www.tripadvisor.com/Attractions-g29511...  \n",
       "42  https://www.tripadvisor.com/Attractions-g14729...  \n",
       "43  https://www.tripadvisor.com/Attractions-g29201...  \n",
       "44  https://www.tripadvisor.com/Attractions-g15076...  \n",
       "45  https://www.tripadvisor.com/Attractions-g29447...  \n",
       "46  https://www.tripadvisor.com/Attractions-g29447...  \n",
       "47  https://www.tripadvisor.com/Attractions-g191-A...  \n",
       "48  https://www.tripadvisor.com/Attractions-g19041...  \n",
       "49  https://www.tripadvisor.com/Attractions-g29445...  \n",
       "50  https://www.tripadvisor.com/Attractions-g27468...  \n",
       "51  https://www.tripadvisor.com/Attractions-g18951...  \n",
       "52  https://www.tripadvisor.com/Attractions-g27495...  \n",
       "53  https://www.tripadvisor.com/Attractions-g18989...  \n",
       "54  https://www.tripadvisor.com/Attractions-g18707...  \n",
       "55  https://www.tripadvisor.com/Attractions-g18727...  \n",
       "56  https://www.tripadvisor.com/Attractions-g18939...  \n",
       "57  https://www.tripadvisor.com/Attractions-g27488...  \n",
       "58  https://www.tripadvisor.com/Attractions-g18995...  \n",
       "59  https://www.tripadvisor.com/Attractions-g18776...  \n",
       "60  https://www.tripadvisor.com/Attractions-g19045...  \n",
       "61  https://www.tripadvisor.com/Attractions-g18910...  \n",
       "62  https://www.tripadvisor.com/Attractions-g29445...  \n",
       "63  https://www.tripadvisor.com/Attractions-g29445...  \n",
       "64  https://www.tripadvisor.com/Attractions-g29447...  \n",
       "65  https://www.tripadvisor.com/Attractions-g18742...  \n",
       "66  https://www.tripadvisor.com/Attractions-g18980...  \n",
       "67  https://www.tripadvisor.com/Attractions-g29396...  \n",
       "68  https://www.tripadvisor.com/Attractions-g18621...  \n",
       "\n",
       "[69 rows x 3 columns]"
      ]
     },
     "execution_count": 60,
     "metadata": {},
     "output_type": "execute_result"
    }
   ],
   "source": [
    "pd.read_csv('data/world.csv')\n",
    "#to check"
   ]
  },
  {
   "cell_type": "code",
   "execution_count": null,
   "metadata": {
    "collapsed": true
   },
   "outputs": [],
   "source": []
  }
 ],
 "metadata": {
  "kernelspec": {
   "display_name": "Python 2",
   "language": "python",
   "name": "python2"
  },
  "language_info": {
   "codemirror_mode": {
    "name": "ipython",
    "version": 2
   },
   "file_extension": ".py",
   "mimetype": "text/x-python",
   "name": "python",
   "nbconvert_exporter": "python",
   "pygments_lexer": "ipython2",
   "version": "2.7.13"
  }
 },
 "nbformat": 4,
 "nbformat_minor": 2
}
